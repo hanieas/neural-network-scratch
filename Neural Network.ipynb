{
 "cells": [
  {
   "cell_type": "code",
   "execution_count": 1,
   "id": "67482c3f",
   "metadata": {},
   "outputs": [],
   "source": [
    "import numpy as np"
   ]
  },
  {
   "cell_type": "code",
   "execution_count": 2,
   "id": "40ec8cf7",
   "metadata": {},
   "outputs": [],
   "source": [
    "def sigmoid(x):\n",
    "    return 1/(1+np.exp(-x))"
   ]
  },
  {
   "cell_type": "code",
   "execution_count": 11,
   "id": "239b97c9",
   "metadata": {},
   "outputs": [],
   "source": [
    "def derived_sigmoid(x):\n",
    "    fx = sigmoid(x)\n",
    "    return fx * (1 - fx)"
   ]
  },
  {
   "cell_type": "code",
   "execution_count": 4,
   "id": "efe7ee91",
   "metadata": {},
   "outputs": [],
   "source": [
    "class Neuron:\n",
    "    def __init__(self, weights, bias):\n",
    "        self.weights = weights\n",
    "        self.bias = bias\n",
    "        \n",
    "    def feedForward(self, inputs):\n",
    "        total = np.dot(self.weights, inputs) + self.bias\n",
    "        return sigmoid(total)"
   ]
  },
  {
   "cell_type": "code",
   "execution_count": 97,
   "id": "67d9e0be",
   "metadata": {},
   "outputs": [],
   "source": [
    "class NeuralNetwork:\n",
    "    \n",
    "    def __init__(self):\n",
    "        self.w1 = np.random.normal()\n",
    "        self.w2 = np.random.normal()\n",
    "        self.w3 = np.random.normal()\n",
    "        self.w4 = np.random.normal()\n",
    "        self.w5 = np.random.normal()\n",
    "        self.w6 = np.random.normal()\n",
    "        \n",
    "        self.b1 = np.random.normal()\n",
    "        self.b2 = np.random.normal()\n",
    "        self.b3 = np.random.normal()\n",
    "        \n",
    "    def feedForward(self, inputs):\n",
    "        h1 = Neuron(np.array([self.w1,self.w2]), self.b1).feedForward(inputs)\n",
    "        h2 = Neuron(np.array([self.w3,self.w4]), self.b2).feedForward(inputs)\n",
    "        o1 = Neuron(np.array([self.w5,self.w6]), self.b3).feedForward(np.array([h1,h2]))\n",
    "        \n",
    "        return o1\n",
    "\n",
    "    def train(self, data, labels, epochs, learningRate):\n",
    "        loss = 1.0\n",
    "        acc = 0.0\n",
    "        \n",
    "        for epoch in range(epochs):\n",
    "            for x,label in zip(data, labels):\n",
    "                \n",
    "                h1 = sigmoid(self.w1*x[0] + self.w2*x[1] + self.b1)\n",
    "                \n",
    "                h2 = sigmoid(self.w3*x[0] + self.w4*x[1] + self.b2)\n",
    "                \n",
    "                o1 = sigmoid(self.w5*h1 + self.w6*h2 + self.b3)\n",
    "                \n",
    "                y_pred = o1\n",
    "                \n",
    "                dl_dy = -2*(label-y_pred)\n",
    "                \n",
    "                # Neuron o1\n",
    "                dy_dw5 = h1 * derived_sigmoid(o1)\n",
    "                dy_dw6 = h2 * derived_sigmoid(o1)\n",
    "                dy_db3 = derived_sigmoid(o1)\n",
    "                \n",
    "                # Neuron h2\n",
    "                dy_dh2 = self.w6 * derived_sigmoid(o1)\n",
    "                dh2_dw3 = x[0] * derived_sigmoid(h2)\n",
    "                dh2_dw4 = x[1] * derived_sigmoid(h2)\n",
    "                dh2_db2 = derived_sigmoid(self.b2)\n",
    "                \n",
    "                #Neuron h1\n",
    "                dy_dh1 = self.w5 * derived_sigmoid(o1)\n",
    "                dh1_dw1 = x[0] * derived_sigmoid(h1)\n",
    "                dh1_dw2 = x[1] * derived_sigmoid(h1)\n",
    "                dh1_db1 = derived_sigmoid(self.b1)\n",
    "                \n",
    "                # Update Weights and biases\n",
    "                \n",
    "                #Neuron o1\n",
    "                self.w5 -= learningRate * dl_dy * dy_dw5\n",
    "                self.w6 -= learningRate * dl_dy * dy_dw6\n",
    "                self.b3 -= learningRate * dl_dy * dy_db3\n",
    "                \n",
    "                #Neuron h2\n",
    "                self.w3 -= learningRate * dl_dy * dy_dh2 * dh2_dw3\n",
    "                self.w4 -= learningRate * dl_dy * dy_dh2 * dh2_dw4\n",
    "                self.b2 -= learningRate * dl_dy * dy_dh2 * dh2_db2\n",
    "                \n",
    "                #Neuron h1\n",
    "                self.w1 -= learningRate * dl_dy * dy_dh1 * dh1_dw1\n",
    "                self.w2 -= learningRate * dl_dy * dy_dh1 * dh1_dw2\n",
    "                self.b1 -= learningRate * dl_dy * dy_dh1 * dh1_db1\n",
    "                \n",
    "                if(epoch % 10 == 0):\n",
    "                    y_preds = np.apply_along_axis(self.feedForward, 1, data)\n",
    "                    loss = mse_loss(labels, y_preds)\n",
    "                    print(\"Epoch %d loss: %.3f\" % (epoch, loss))\n",
    "                    \n",
    "        loss = mse_loss(labels, y_preds)\n",
    "        print('Total Loss:',loss)             "
   ]
  },
  {
   "cell_type": "code",
   "execution_count": 98,
   "id": "d38e24dc",
   "metadata": {},
   "outputs": [],
   "source": [
    "def mse_loss(y_true, y_pred):\n",
    "    return ((y_true - y_pred) ** 2).mean()"
   ]
  },
  {
   "cell_type": "code",
   "execution_count": 99,
   "id": "69e300af",
   "metadata": {},
   "outputs": [],
   "source": [
    "data = np.array([\n",
    "  [-2, -1],  # Alice\n",
    "  [25, 6],   # Bob\n",
    "  [17, 4],   # Charlie\n",
    "  [-15, -6], # Diana\n",
    "])"
   ]
  },
  {
   "cell_type": "code",
   "execution_count": 100,
   "id": "f6839d02",
   "metadata": {},
   "outputs": [],
   "source": [
    "labels = np.array([\n",
    "  1, # Alice\n",
    "  0, # Bob\n",
    "  0, # Charlie\n",
    "  1, # Diana\n",
    "])"
   ]
  },
  {
   "cell_type": "code",
   "execution_count": 103,
   "id": "ccdabdb6",
   "metadata": {},
   "outputs": [
    {
     "name": "stdout",
     "output_type": "stream",
     "text": [
      "Epoch 0 loss: 0.334\n",
      "Epoch 0 loss: 0.332\n",
      "Epoch 0 loss: 0.330\n",
      "Epoch 0 loss: 0.325\n",
      "Epoch 10 loss: 0.159\n",
      "Epoch 10 loss: 0.159\n",
      "Epoch 10 loss: 0.159\n",
      "Epoch 10 loss: 0.153\n",
      "Epoch 20 loss: 0.089\n",
      "Epoch 20 loss: 0.089\n",
      "Epoch 20 loss: 0.089\n",
      "Epoch 20 loss: 0.087\n",
      "Epoch 30 loss: 0.059\n",
      "Epoch 30 loss: 0.059\n",
      "Epoch 30 loss: 0.059\n",
      "Epoch 30 loss: 0.057\n",
      "Epoch 40 loss: 0.042\n",
      "Epoch 40 loss: 0.042\n",
      "Epoch 40 loss: 0.042\n",
      "Epoch 40 loss: 0.041\n",
      "Total Loss: 0.04093466872181365\n"
     ]
    }
   ],
   "source": [
    "network = NeuralNetwork()\n",
    "epochs = 1000\n",
    "learning_rate = 0.1\n",
    "# print(network.feedForward(inputs))\n",
    "network.train(data, labels, 50, 0.1 )"
   ]
  },
  {
   "cell_type": "code",
   "execution_count": null,
   "id": "1c95ba63",
   "metadata": {},
   "outputs": [],
   "source": []
  }
 ],
 "metadata": {
  "kernelspec": {
   "display_name": "Python 3 (ipykernel)",
   "language": "python",
   "name": "python3"
  },
  "language_info": {
   "codemirror_mode": {
    "name": "ipython",
    "version": 3
   },
   "file_extension": ".py",
   "mimetype": "text/x-python",
   "name": "python",
   "nbconvert_exporter": "python",
   "pygments_lexer": "ipython3",
   "version": "3.9.12"
  }
 },
 "nbformat": 4,
 "nbformat_minor": 5
}
